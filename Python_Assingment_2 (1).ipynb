{
 "cells": [
  {
   "cell_type": "markdown",
   "metadata": {
    "id": "VXJDMkAbfQQ7"
   },
   "source": [
    "1. Write a python program to interchange first and last elements in a list<br>\n",
    "Input : [12, 35, 9, 56, 24]<br>\n",
    "Output : [24, 35, 9, 56, 12]"
   ]
  },
  {
   "cell_type": "code",
   "execution_count": 3,
   "metadata": {
    "id": "nkLzGNGUpk7B"
   },
   "outputs": [
    {
     "ename": "SyntaxError",
     "evalue": "invalid syntax (1776404945.py, line 2)",
     "output_type": "error",
     "traceback": [
      "\u001b[1;36m  Cell \u001b[1;32mIn[3], line 2\u001b[1;36m\u001b[0m\n\u001b[1;33m    l.[0]=4\u001b[0m\n\u001b[1;37m      ^\u001b[0m\n\u001b[1;31mSyntaxError\u001b[0m\u001b[1;31m:\u001b[0m invalid syntax\n"
     ]
    }
   ],
   "source": [
    "l=[12, 35, 9, 56, 24]\n",
    "l.[]"
   ]
  },
  {
   "cell_type": "markdown",
   "metadata": {
    "id": "mJrR38UrfTsr"
   },
   "source": [
    "2. Write a python program to print the first two maximum numbers in the list and also print the sum of those two maximum numbers<br>\n",
    "Input : [12, 35, 9, 56, 24]<br>\n",
    "Output : [24, 35, 9, 56, 12]<br>\n",
    "output = Maximum numbers in the list are 56,35<br>\n",
    "and the sum of the above maximum numbers is 95"
   ]
  },
  {
   "cell_type": "code",
   "execution_count": null,
   "metadata": {
    "id": "9O3EUaT8plpW"
   },
   "outputs": [],
   "source": []
  },
  {
   "cell_type": "markdown",
   "metadata": {
    "id": "gN-py34Qf6dF"
   },
   "source": [
    "3. Write a program to reverse a list using for loop without using slicing operation<br>\n",
    "Input=[1,2,3,4,5,6]<br>\n",
    "output=[6,5,4,3,2,1]"
   ]
  },
  {
   "cell_type": "code",
   "execution_count": null,
   "metadata": {
    "id": "ZUrBTXnPpmgE"
   },
   "outputs": [],
   "source": []
  },
  {
   "cell_type": "markdown",
   "metadata": {
    "id": "5DMwujcNgQn2"
   },
   "source": [
    "4. Write a python program to print the first two minimum numbers in the list and also print the sum of those two minimum numbers<br>\n",
    "Input : [12, 35, 9, 56, 24]<br>\n",
    "Output : [24, 35, 9, 56, 12]<br>\n",
    "output=Minimum numbers in the list are 9,12<br>\n",
    "and the sum of the above minimum numbers is 21"
   ]
  },
  {
   "cell_type": "code",
   "execution_count": null,
   "metadata": {
    "id": "OM-nbi_0pnGk"
   },
   "outputs": [],
   "source": []
  },
  {
   "cell_type": "markdown",
   "metadata": {
    "id": "dmHJ6S4pgpbx"
   },
   "source": [
    "5. Take string as an input from the user and print reverse of the string,using for loop <br>\n",
    "Input='hi i like python'<br>\n",
    "output='nohtyp ekil i ih'"
   ]
  },
  {
   "cell_type": "code",
   "execution_count": null,
   "metadata": {
    "id": "MWPvs-Vcf5Aw"
   },
   "outputs": [],
   "source": []
  }
 ],
 "metadata": {
  "colab": {
   "collapsed_sections": [],
   "name": "Python_Assingment_2.ipynb",
   "provenance": []
  },
  "kernelspec": {
   "display_name": "Python 3 (ipykernel)",
   "language": "python",
   "name": "python3"
  },
  "language_info": {
   "codemirror_mode": {
    "name": "ipython",
    "version": 3
   },
   "file_extension": ".py",
   "mimetype": "text/x-python",
   "name": "python",
   "nbconvert_exporter": "python",
   "pygments_lexer": "ipython3",
   "version": "3.12.4"
  }
 },
 "nbformat": 4,
 "nbformat_minor": 4
}
